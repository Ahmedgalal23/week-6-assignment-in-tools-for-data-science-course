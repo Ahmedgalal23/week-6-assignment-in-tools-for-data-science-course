{
  "metadata": {
    "language_info": {
      "codemirror_mode": {
        "name": "python",
        "version": 3
      },
      "file_extension": ".py",
      "mimetype": "text/x-python",
      "name": "python",
      "nbconvert_exporter": "python",
      "pygments_lexer": "ipython3",
      "version": "3.8"
    },
    "kernelspec": {
      "name": "python",
      "display_name": "Python (Pyodide)",
      "language": "python"
    }
  },
  "nbformat_minor": 4,
  "nbformat": 4,
  "cells": [
    {
      "cell_type": "markdown",
      "source": "# 1-notebook",
      "metadata": {}
    },
    {
      "cell_type": "markdown",
      "source": "# introduction",
      "metadata": {}
    },
    {
      "cell_type": "markdown",
      "source": "# Here are some popular data science programming languages:\n\n- Python\n- R\n- SQL\n- Java\n- MATLAB\n- SAS\n- Julia\n- Scala\n- JavaScript\n- Ruby",
      "metadata": {}
    },
    {
      "cell_type": "markdown",
      "source": "# Here are some popular data science libraries for Python:\n\n- NumPy: library for working with arrays and matrices\n- pandas: library for working with tabular data\n- Matplotlib: library for creating static, animated, and interactive visualizations in Python\n- Seaborn: library for creating statistical graphics in Python\n- Scikit-learn: library for machine learning algorithms and tools for data mining and data analysis\n- TensorFlow: library for building and training machine learning models\n- PyTorch: library for building and training neural networks\n- Keras: high-level neural networks API, capable of running on top of TensorFlow, Theano, or CNTK\n- NLTK: natural language processing library\n- OpenCV: computer vision library\n- SciPy: library for scientific and technical computing, including functions for optimization, integration, interpolation, and linear algebra",
      "metadata": {}
    },
    {
      "cell_type": "markdown",
      "source": "| Tool | Description |\n| --- | --- |\n| Python | A popular general-purpose programming language used for various data science tasks |\n| R | A programming language and environment used for statistical computing and graphics |\n| SQL | A domain-specific language used in programming and managing relational databases |\n| MATLAB | A proprietary numerical computing environment used for matrix manipulation, plotting, and algorithm implementation |\n| Excel | A spreadsheet program commonly used for data analysis and visualization |\n| Tableau | A business intelligence and data visualization tool |\n| Power BI | A business analytics service provided by Microsoft for interactive visualizations and business intelligence capabilities |",
      "metadata": {}
    },
    {
      "cell_type": "markdown",
      "source": "# Arithmetic Expressions\n\nArithmetic expressions involve using mathematical operators to perform calculations. Some examples include:\n\n- Addition: `2 + 3`\n- Subtraction: `5 - 1`\n- Multiplication: `4 * 6`\n- Division: `12 / 3`\n- Exponentiation: `2 ** 4`\n\nYou can also use parentheses to group operations and control the order of evaluation:\n\n- `(2 + 3) * 4`\n- `10 / (2 + 3)`\n\nThese are just a few examples of the many arithmetic expressions you can use in Python and other data science languages.\n",
      "metadata": {}
    },
    {
      "cell_type": "code",
      "source": "# Multiply and add numbers\na = 5\nb = 10\nresult = a * b + 3\nprint(result)\n",
      "metadata": {
        "trusted": true
      },
      "execution_count": 1,
      "outputs": [
        {
          "name": "stdout",
          "text": "53\n",
          "output_type": "stream"
        }
      ]
    },
    {
      "cell_type": "code",
      "source": "# convert minutes to hours\nminutes = 120\nhours = minutes / 60\nprint(\"The number of hours is:\", hours)\n",
      "metadata": {
        "trusted": true
      },
      "execution_count": 2,
      "outputs": [
        {
          "name": "stdout",
          "text": "The number of hours is: 2.0\n",
          "output_type": "stream"
        }
      ]
    },
    {
      "cell_type": "markdown",
      "source": "## Objectives\n\n- Learn the basics of data science\n- Understand different programming languages and tools used in data science\n- Learn how to work with data using libraries such as Pandas and Numpy\n- Create data visualizations using libraries such as Matplotlib and Seaborn\n- Learn how to perform machine learning using libraries such as Scikit-Learn\n- Understand the basics of deep learning and neural networks using libraries such as TensorFlow and PyTorch\n- Learn how to work with big data using distributed computing frameworks such as Apache Spark\n",
      "metadata": {}
    },
    {
      "cell_type": "markdown",
      "source": "# Author: [Ahmed Marzouk]\n",
      "metadata": {}
    },
    {
      "cell_type": "code",
      "source": "",
      "metadata": {},
      "execution_count": null,
      "outputs": []
    }
  ]
}